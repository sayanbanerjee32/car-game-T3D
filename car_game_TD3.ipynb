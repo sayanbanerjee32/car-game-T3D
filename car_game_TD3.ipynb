{
  "nbformat": 4,
  "nbformat_minor": 0,
  "metadata": {
    "colab": {
      "provenance": [],
      "include_colab_link": true
    },
    "kernelspec": {
      "name": "python3",
      "display_name": "Python 3"
    }
  },
  "cells": [
    {
      "cell_type": "markdown",
      "metadata": {
        "id": "view-in-github",
        "colab_type": "text"
      },
      "source": [
        "<a href=\"https://colab.research.google.com/github/sayanbanerjee32/car-game-T3D/blob/main/car_game_TD3.ipynb\" target=\"_parent\"><img src=\"https://colab.research.google.com/assets/colab-badge.svg\" alt=\"Open In Colab\"/></a>"
      ]
    },
    {
      "cell_type": "code",
      "source": [
        "# assignment repo\n",
        "!git clone https://github.com/sayanbanerjee32/car-game-T3D"
      ],
      "metadata": {
        "colab": {
          "base_uri": "https://localhost:8080/"
        },
        "id": "LwKTzGxinoUX",
        "outputId": "1f2fba13-59e5-4f22-db27-0c923b93af7e"
      },
      "execution_count": 1,
      "outputs": [
        {
          "output_type": "stream",
          "name": "stdout",
          "text": [
            "Cloning into 'car-game-T3D'...\n",
            "remote: Enumerating objects: 68, done.\u001b[K\n",
            "remote: Counting objects: 100% (68/68), done.\u001b[K\n",
            "remote: Compressing objects: 100% (51/51), done.\u001b[K\n",
            "remote: Total 68 (delta 34), reused 37 (delta 15), pack-reused 0 (from 0)\u001b[K\n",
            "Receiving objects: 100% (68/68), 4.05 MiB | 8.56 MiB/s, done.\n",
            "Resolving deltas: 100% (34/34), done.\n"
          ]
        }
      ]
    },
    {
      "cell_type": "code",
      "source": [
        "## move python files to outside\n",
        "!mv car-game-T3D/* ."
      ],
      "metadata": {
        "id": "dZ-wt3cen2xY"
      },
      "execution_count": 2,
      "outputs": []
    },
    {
      "cell_type": "code",
      "metadata": {
        "id": "HAHMB0Ze8fU0",
        "outputId": "9b84321d-4f1f-42f6-abae-38a829b66cdd",
        "colab": {
          "base_uri": "https://localhost:8080/"
        }
      },
      "source": [
        "# !pip install pybullet\n",
        "!pip install kivy"
      ],
      "execution_count": 3,
      "outputs": [
        {
          "output_type": "stream",
          "name": "stdout",
          "text": [
            "Collecting kivy\n",
            "  Downloading Kivy-2.3.0-cp310-cp310-manylinux_2_17_x86_64.manylinux2014_x86_64.whl.metadata (15 kB)\n",
            "Collecting Kivy-Garden>=0.1.4 (from kivy)\n",
            "  Downloading Kivy_Garden-0.1.5-py3-none-any.whl.metadata (159 bytes)\n",
            "Requirement already satisfied: docutils in /usr/local/lib/python3.10/dist-packages (from kivy) (0.18.1)\n",
            "Requirement already satisfied: pygments in /usr/local/lib/python3.10/dist-packages (from kivy) (2.16.1)\n",
            "Requirement already satisfied: requests in /usr/local/lib/python3.10/dist-packages (from Kivy-Garden>=0.1.4->kivy) (2.32.3)\n",
            "Requirement already satisfied: charset-normalizer<4,>=2 in /usr/local/lib/python3.10/dist-packages (from requests->Kivy-Garden>=0.1.4->kivy) (3.3.2)\n",
            "Requirement already satisfied: idna<4,>=2.5 in /usr/local/lib/python3.10/dist-packages (from requests->Kivy-Garden>=0.1.4->kivy) (3.8)\n",
            "Requirement already satisfied: urllib3<3,>=1.21.1 in /usr/local/lib/python3.10/dist-packages (from requests->Kivy-Garden>=0.1.4->kivy) (2.0.7)\n",
            "Requirement already satisfied: certifi>=2017.4.17 in /usr/local/lib/python3.10/dist-packages (from requests->Kivy-Garden>=0.1.4->kivy) (2024.7.4)\n",
            "Downloading Kivy-2.3.0-cp310-cp310-manylinux_2_17_x86_64.manylinux2014_x86_64.whl (21.2 MB)\n",
            "\u001b[2K   \u001b[90m━━━━━━━━━━━━━━━━━━━━━━━━━━━━━━━━━━━━━━━━\u001b[0m \u001b[32m21.2/21.2 MB\u001b[0m \u001b[31m45.9 MB/s\u001b[0m eta \u001b[36m0:00:00\u001b[0m\n",
            "\u001b[?25hDownloading Kivy_Garden-0.1.5-py3-none-any.whl (4.6 kB)\n",
            "Installing collected packages: Kivy-Garden, kivy\n",
            "Successfully installed Kivy-Garden-0.1.5 kivy-2.3.0\n"
          ]
        }
      ]
    },
    {
      "cell_type": "code",
      "source": [
        "!python map.py"
      ],
      "metadata": {
        "colab": {
          "base_uri": "https://localhost:8080/"
        },
        "id": "uLAvOZoqVeAK",
        "outputId": "d425e66d-b663-4bf8-d6af-d53786ce4114"
      },
      "execution_count": null,
      "outputs": [
        {
          "output_type": "stream",
          "name": "stdout",
          "text": [
            "[INFO   ] [Logger      ] Record log in /root/.kivy/logs/kivy_24-09-04_3.txt\n",
            "[INFO   ] [Kivy        ] v2.3.0\n",
            "[INFO   ] [Kivy        ] Installed at \"/usr/local/lib/python3.10/dist-packages/kivy/__init__.py\"\n",
            "[INFO   ] [Python      ] v3.10.12 (main, Jul 29 2024, 16:56:48) [GCC 11.4.0]\n",
            "[INFO   ] [Python      ] Interpreter at \"/usr/bin/python3\"\n",
            "[INFO   ] [Logger      ] Purge log fired. Processing...\n",
            "[INFO   ] [Logger      ] Purge finished!\n",
            "[INFO   ] [Factory     ] 195 symbols loaded\n",
            "[INFO   ] [Image       ] Providers: img_tex, img_dds, img_sdl2, img_pil (img_ffpyplayer ignored)\n",
            "[INFO   ] [Text        ] Provider: sdl2\n",
            "[ERROR  ] [Input       ] MTDev is not supported by your version of linux\n",
            "Traceback (most recent call last):\n",
            "  File \"/usr/local/lib/python3.10/dist-packages/kivy/input/providers/__init__.py\", line 41, in <module>\n",
            "    import kivy.input.providers.mtdev\n",
            "  File \"/usr/local/lib/python3.10/dist-packages/kivy/input/providers/mtdev.py\", line 94, in <module>\n",
            "    from kivy.lib.mtdev import Device, \\\n",
            "  File \"/usr/local/lib/python3.10/dist-packages/kivy/lib/mtdev.py\", line 30, in <module>\n",
            "    libmtdev = cdll.LoadLibrary('libmtdev.so.1')\n",
            "  File \"/usr/lib/python3.10/ctypes/__init__.py\", line 452, in LoadLibrary\n",
            "    return self._dlltype(name)\n",
            "  File \"/usr/lib/python3.10/ctypes/__init__.py\", line 374, in __init__\n",
            "    self._handle = _dlopen(self._name, mode)\n",
            "OSError: libmtdev.so.1: cannot open shared object file: No such file or directory\n",
            "[INFO   ] [Window      ] Provider: sdl2\n",
            "[INFO   ] [GL          ] Using the \"OpenGL\" graphics system\n",
            "[INFO   ] [GL          ] Backend used <sdl2>\n",
            "[INFO   ] [GL          ] OpenGL version <b'4.5 (Compatibility Profile) Mesa 23.2.1-1ubuntu3.1~22.04.2'>\n",
            "[INFO   ] [GL          ] OpenGL vendor <b'Mesa'>\n",
            "[INFO   ] [GL          ] OpenGL renderer <b'llvmpipe (LLVM 15.0.7, 256 bits)'>\n",
            "[INFO   ] [GL          ] OpenGL parsed version: 4, 5\n",
            "[INFO   ] [GL          ] Shading version <b'4.50'>\n",
            "[INFO   ] [GL          ] Texture max size <16384>\n",
            "[INFO   ] [GL          ] Texture max units <32>\n",
            "[INFO   ] [Window      ] auto add sdl2 input provider\n",
            "[INFO   ] [Window      ] virtual keyboard not allowed, single mode, not docked\n",
            "[INFO   ] [GL          ] NPOT texture support is available\n",
            "[INFO   ] [Base        ] Start application main loop\n",
            "[DEBUG  ] STREAM b'IHDR' 16 13\n",
            "[DEBUG  ] STREAM b'sRGB' 41 1\n",
            "[DEBUG  ] STREAM b'gAMA' 54 4\n",
            "[DEBUG  ] STREAM b'pHYs' 70 9\n",
            "[DEBUG  ] STREAM b'IDAT' 91 65445\n",
            "2024-09-04 06:26:05.047430: 0 - prev eps rewards: [-4229.999999999968], curr eps reward -14232.200000000063\n",
            "storage size 20001, pointer 20001,positive samples 896\n",
            "2024-09-04 06:30:22.676823: 1000 - prev eps rewards: [-4229.999999999968], curr eps reward -15189.300000000081\n",
            "storage size 21001, pointer 21001,positive samples 911\n",
            "2024-09-04 06:34:52.458049: 2000 - prev eps rewards: [-4229.999999999968], curr eps reward -16074.900000000185\n",
            "storage size 22001, pointer 22001,positive samples 911\n",
            "2024-09-04 06:39:30.942903: 3000 - prev eps rewards: [-4229.999999999968], curr eps reward -17074.900000000183\n",
            "storage size 23001, pointer 23001,positive samples 911\n",
            "2024-09-04 06:44:18.555502: 4000 - prev eps rewards: [-4229.999999999968], curr eps reward -18074.900000000183\n",
            "storage size 23616, pointer 23616,positive samples 911\n",
            "2024-09-04 06:49:08.299381: 5000 - prev eps rewards: [-4229.999999999968], curr eps reward -19074.900000000183\n",
            "storage size 23615, pointer 23615,positive samples 911\n",
            "2024-09-04 06:54:04.404585: 6000 - prev eps rewards: [-4229.999999999968], curr eps reward -19977.000000000287\n",
            "storage size 24230, pointer 24230,positive samples 944\n",
            "2024-09-04 06:59:21.739395: 7000 - prev eps rewards: [-4229.999999999968], curr eps reward -20855.900000000413\n",
            "storage size 25230, pointer 25230,positive samples 977\n",
            "2024-09-04 07:04:47.616371: 8000 - prev eps rewards: [-4229.999999999968], curr eps reward -21807.500000000477\n",
            "storage size 25691, pointer 25691,positive samples 1021\n",
            "2024-09-04 07:10:41.393150: 9000 - prev eps rewards: [-4229.999999999968], curr eps reward -22661.500000000648\n",
            "storage size 26691, pointer 26691,positive samples 1105\n",
            "2024-09-04 07:17:14.311821: 10000 - prev eps rewards: [-4229.999999999968], curr eps reward -23525.200000000823\n",
            "storage size 27691, pointer 27691,positive samples 1218\n",
            "2024-09-04 07:24:19.807634: 11000 - prev eps rewards: [-4229.999999999968, -23814.800000000843], curr eps reward -599.8000000000018\n",
            "storage size 28691, pointer 28691,positive samples 1274\n",
            "2024-09-04 07:31:58.417875: 12000 - prev eps rewards: [-4229.999999999968, -23814.800000000843], curr eps reward -1530.200000000004\n",
            "storage size 29691, pointer 29691,positive samples 1330\n",
            "2024-09-04 07:39:57.150373: 13000 - prev eps rewards: [-4229.999999999968, -23814.800000000843], curr eps reward -2481.9999999999977\n",
            "storage size 30691, pointer 30691,positive samples 1344\n",
            "2024-09-04 07:48:10.826224: 14000 - prev eps rewards: [-4229.999999999968, -23814.800000000843, -3236.8999999999896], curr eps reward -175.20000000000002\n",
            "storage size 31691, pointer 31691,positive samples 1363\n",
            "2024-09-04 07:56:47.985633: 15000 - prev eps rewards: [-4229.999999999968, -23814.800000000843, -3236.8999999999896], curr eps reward -1154.2999999999997\n",
            "storage size 32691, pointer 32691,positive samples 1382\n",
            "2024-09-04 08:05:55.737379: 16000 - prev eps rewards: [-4229.999999999968, -23814.800000000843, -3236.8999999999896], curr eps reward -1858.800000000018\n",
            "storage size 33691, pointer 33691,positive samples 1431\n",
            "2024-09-04 08:15:20.305153: 17000 - prev eps rewards: [-4229.999999999968, -23814.800000000843, -3236.8999999999896], curr eps reward -2723.599999999987\n",
            "storage size 34691, pointer 34691,positive samples 1431\n",
            "2024-09-04 08:24:58.602326: 18000 - prev eps rewards: [-4229.999999999968, -23814.800000000843, -3236.8999999999896], curr eps reward -3589.1999999999566\n",
            "storage size 35691, pointer 35691,positive samples 1431\n",
            "2024-09-04 08:34:49.529416: 19000 - prev eps rewards: [-4229.999999999968, -23814.800000000843, -3236.8999999999896], curr eps reward -4390.799999999912\n",
            "storage size 36691, pointer 36691,positive samples 1431\n",
            "2024-09-04 08:44:52.484261: 20000 - prev eps rewards: [-4229.999999999968, -23814.800000000843, -3236.8999999999896], curr eps reward -5195.599999999868\n",
            "storage size 37152, pointer 37152,positive samples 1431\n",
            "2024-09-04 08:54:56.720013: 21000 - prev eps rewards: [-4229.999999999968, -23814.800000000843, -3236.8999999999896], curr eps reward -6195.599999999868\n",
            "storage size 37151, pointer 37151,positive samples 1431\n",
            "2024-09-04 09:05:10.422062: 22000 - prev eps rewards: [-4229.999999999968, -23814.800000000843, -3236.8999999999896], curr eps reward -7071.2999999998265\n",
            "storage size 37381, pointer 37381,positive samples 1543\n",
            "2024-09-04 09:16:52.877324: 23000 - prev eps rewards: [-4229.999999999968, -23814.800000000843, -3236.8999999999896], curr eps reward -7755.599999999734\n",
            "storage size 38381, pointer 38381,positive samples 1727\n",
            "2024-09-04 09:29:45.772173: 24000 - prev eps rewards: [-4229.999999999968, -23814.800000000843, -3236.8999999999896, -8262.799999999696], curr eps reward -320.6000000000002\n",
            "storage size 39381, pointer 39381,positive samples 1831\n",
            "2024-09-04 09:43:10.292190: 25000 - prev eps rewards: [-4229.999999999968, -23814.800000000843, -3236.8999999999896, -8262.799999999696], curr eps reward -1315.8000000000002\n",
            "storage size 40381, pointer 40381,positive samples 1831\n",
            "2024-09-04 09:56:51.852153: 26000 - prev eps rewards: [-4229.999999999968, -23814.800000000843, -3236.8999999999896, -8262.799999999696], curr eps reward -2315.8\n",
            "storage size 41381, pointer 41381,positive samples 1831\n",
            "2024-09-04 10:10:51.492663: 27000 - prev eps rewards: [-4229.999999999968, -23814.800000000843, -3236.8999999999896, -8262.799999999696], curr eps reward -3315.8\n",
            "storage size 42381, pointer 42381,positive samples 1831\n",
            "2024-09-04 10:25:53.001748: 28000 - prev eps rewards: [-4229.999999999968, -23814.800000000843, -3236.8999999999896, -8262.799999999696, -3964.10000000002], curr eps reward -97.79999999999998\n",
            "storage size 43381, pointer 43381,positive samples 2050\n",
            "2024-09-04 10:43:02.726594: 29000 - prev eps rewards: [-4229.999999999968, -23814.800000000843, -3236.8999999999896, -8262.799999999696, -3964.10000000002], curr eps reward -755.5999999999976\n",
            "storage size 44381, pointer 44381,positive samples 2324\n",
            "2024-09-04 11:01:53.069593: 30000 - prev eps rewards: [-4229.999999999968, -23814.800000000843, -3236.8999999999896, -8262.799999999696, -3964.10000000002], curr eps reward -1618.800000000006\n",
            "storage size 45381, pointer 45381,positive samples 2396\n",
            "2024-09-04 11:21:16.136421: 31000 - prev eps rewards: [-4229.999999999968, -23814.800000000843, -3236.8999999999896, -8262.799999999696, -3964.10000000002], curr eps reward -2481.399999999994\n",
            "storage size 46381, pointer 46381,positive samples 2398\n",
            "2024-09-04 11:41:05.192789: 32000 - prev eps rewards: [-4229.999999999968, -23814.800000000843, -3236.8999999999896, -8262.799999999696, -3964.10000000002], curr eps reward -3322.1999999999716\n",
            "storage size 47381, pointer 47381,positive samples 2438\n",
            "2024-09-04 12:01:35.147766: 33000 - prev eps rewards: [-4229.999999999968, -23814.800000000843, -3236.8999999999896, -8262.799999999696, -3964.10000000002], curr eps reward -4179.599999999944\n",
            "storage size 48381, pointer 48381,positive samples 2452\n",
            "2024-09-04 12:22:39.118255: 34000 - prev eps rewards: [-4229.999999999968, -23814.800000000843, -3236.8999999999896, -8262.799999999696, -3964.10000000002], curr eps reward -5024.599999999906\n",
            "storage size 49381, pointer 49381,positive samples 2478\n",
            "2024-09-04 12:44:41.196274: 35000 - prev eps rewards: [-4229.999999999968, -23814.800000000843, -3236.8999999999896, -8262.799999999696, -3964.10000000002, -5778.099999999839], curr eps reward -17.2\n",
            "storage size 50381, pointer 50381,positive samples 2608\n",
            "2024-09-04 13:07:50.941871: 36000 - prev eps rewards: [-4229.999999999968, -23814.800000000843, -3236.8999999999896, -8262.799999999696, -3964.10000000002, -5778.099999999839], curr eps reward -898.8000000000013\n",
            "storage size 51381, pointer 51381,positive samples 2608\n",
            "2024-09-04 13:31:24.256854: 37000 - prev eps rewards: [-4229.999999999968, -23814.800000000843, -3236.8999999999896, -8262.799999999696, -3964.10000000002, -5778.099999999839], curr eps reward -1808.4000000000065\n",
            "storage size 52381, pointer 52381,positive samples 2608\n",
            "2024-09-04 13:55:18.246897: 38000 - prev eps rewards: [-4229.999999999968, -23814.800000000843, -3236.8999999999896, -8262.799999999696, -3964.10000000002, -5778.099999999839], curr eps reward -2730.7999999999947\n",
            "storage size 53381, pointer 53381,positive samples 2608\n",
            "2024-09-04 14:19:51.643581: 39000 - prev eps rewards: [-4229.999999999968, -23814.800000000843, -3236.8999999999896, -8262.799999999696, -3964.10000000002, -5778.099999999839], curr eps reward -3648.399999999976\n",
            "storage size 54381, pointer 54381,positive samples 2608\n",
            "2024-09-04 14:45:13.030779: 40000 - prev eps rewards: [-4229.999999999968, -23814.800000000843, -3236.8999999999896, -8262.799999999696, -3964.10000000002, -5778.099999999839], curr eps reward -4337.099999999873\n",
            "storage size 55381, pointer 55381,positive samples 2891\n",
            "2024-09-04 15:14:27.421791: 41000 - prev eps rewards: [-4229.999999999968, -23814.800000000843, -3236.8999999999896, -8262.799999999696, -3964.10000000002, -5778.099999999839], curr eps reward -4619.499999999678\n",
            "storage size 56381, pointer 56381,positive samples 3170\n",
            "2024-09-04 15:46:58.188821: 42000 - prev eps rewards: [-4229.999999999968, -23814.800000000843, -3236.8999999999896, -8262.799999999696, -3964.10000000002, -5778.099999999839, -5174.7999999995545], curr eps reward 6.299999999999994\n",
            "storage size 57381, pointer 57381,positive samples 3567\n",
            "2024-09-04 16:24:53.917167: 43000 - prev eps rewards: [-4229.999999999968, -23814.800000000843, -3236.8999999999896, -8262.799999999696, -3964.10000000002, -5778.099999999839, -5174.7999999995545, -75.29999999999995], curr eps reward -398.4\n",
            "storage size 58381, pointer 58381,positive samples 4019\n",
            "2024-09-04 17:04:51.612624: 44000 - prev eps rewards: [-4229.999999999968, -23814.800000000843, -3236.8999999999896, -8262.799999999696, -3964.10000000002, -5778.099999999839, -5174.7999999995545, -75.29999999999995], curr eps reward -1211.9000000000042\n",
            "storage size 59381, pointer 59381,positive samples 4094\n",
            "2024-09-04 17:46:18.736354: 45000 - prev eps rewards: [-4229.999999999968, -23814.800000000843, -3236.8999999999896, -8262.799999999696, -3964.10000000002, -5778.099999999839, -5174.7999999995545, -75.29999999999995], curr eps reward -1977.70000000002\n",
            "storage size 60381, pointer 60381,positive samples 4184\n",
            "2024-09-04 18:30:06.209735: 46000 - prev eps rewards: [-4229.999999999968, -23814.800000000843, -3236.8999999999896, -8262.799999999696, -3964.10000000002, -5778.099999999839, -5174.7999999995545, -75.29999999999995], curr eps reward -2584.0000000000005\n",
            "storage size 61381, pointer 61381,positive samples 4355\n",
            "2024-09-04 19:17:11.154090: 47000 - prev eps rewards: [-4229.999999999968, -23814.800000000843, -3236.8999999999896, -8262.799999999696, -3964.10000000002, -5778.099999999839, -5174.7999999995545, -75.29999999999995], curr eps reward -3083.4999999999845\n",
            "storage size 62381, pointer 62381,positive samples 4642\n",
            "2024-09-04 20:07:37.450727: 48000 - prev eps rewards: [-4229.999999999968, -23814.800000000843, -3236.8999999999896, -8262.799999999696, -3964.10000000002, -5778.099999999839, -5174.7999999995545, -75.29999999999995, -3509.1000000000095], curr eps reward 22.400000000000052\n",
            "storage size 63381, pointer 63381,positive samples 5172\n",
            "2024-09-04 21:03:40.694205: 49000 - prev eps rewards: [-4229.999999999968, -23814.800000000843, -3236.8999999999896, -8262.799999999696, -3964.10000000002, -5778.099999999839, -5174.7999999995545, -75.29999999999995, -3509.1000000000095, -754.3999999999986], curr eps reward -13.6\n",
            "storage size 64381, pointer 64381,positive samples 5352\n",
            "2024-09-04 22:04:45.958775: 50000 - prev eps rewards: [-4229.999999999968, -23814.800000000843, -3236.8999999999896, -8262.799999999696, -3964.10000000002, -5778.099999999839, -5174.7999999995545, -75.29999999999995, -3509.1000000000095, -754.3999999999986, -97.60000000000045], curr eps reward -335.6\n",
            "storage size 65381, pointer 65381,positive samples 5863\n",
            "2024-09-04 23:08:47.691956: 51000 - prev eps rewards: [-4229.999999999968, -23814.800000000843, -3236.8999999999896, -8262.799999999696, -3964.10000000002, -5778.099999999839, -5174.7999999995545, -75.29999999999995, -3509.1000000000095, -754.3999999999986, -97.60000000000045], curr eps reward -1335.6\n",
            "storage size 66381, pointer 66381,positive samples 5863\n",
            "2024-09-05 00:16:53.761442: 52000 - prev eps rewards: [-4229.999999999968, -23814.800000000843, -3236.8999999999896, -8262.799999999696, -3964.10000000002, -5778.099999999839, -5174.7999999995545, -75.29999999999995, -3509.1000000000095, -754.3999999999986, -97.60000000000045, -1475.5000000000282], curr eps reward -65.20000000000142\n",
            "storage size 67381, pointer 67381,positive samples 6584\n",
            "2024-09-05 01:30:49.654613: 53000 - prev eps rewards: [-4229.999999999968, -23814.800000000843, -3236.8999999999896, -8262.799999999696, -3964.10000000002, -5778.099999999839, -5174.7999999995545, -75.29999999999995, -3509.1000000000095, -754.3999999999986, -97.60000000000045, -1475.5000000000282, -55.70000000000133], curr eps reward -856.3\n",
            "storage size 68381, pointer 68381,positive samples 6712\n",
            "2024-09-05 02:47:15.012765: 54000 - prev eps rewards: [-4229.999999999968, -23814.800000000843, -3236.8999999999896, -8262.799999999696, -3964.10000000002, -5778.099999999839, -5174.7999999995545, -75.29999999999995, -3509.1000000000095, -754.3999999999986, -97.60000000000045, -1475.5000000000282, -55.70000000000133, -1370.0000000000286], curr eps reward 4.700000000000002\n",
            "storage size 69381, pointer 69381,positive samples 7124\n",
            "2024-09-05 04:11:47.312107: 55000 - prev eps rewards: [-4229.999999999968, -23814.800000000843, -3236.8999999999896, -8262.799999999696, -3964.10000000002, -5778.099999999839, -5174.7999999995545, -75.29999999999995, -3509.1000000000095, -754.3999999999986, -97.60000000000045, -1475.5000000000282, -55.70000000000133, -1370.0000000000286, -148.60000000000073], curr eps reward -1.3000000000000171\n",
            "storage size 70381, pointer 70381,positive samples 7793\n"
          ]
        }
      ]
    },
    {
      "cell_type": "code",
      "source": [],
      "metadata": {
        "id": "Oq4vlGnC_Vhf"
      },
      "execution_count": null,
      "outputs": []
    }
  ]
}